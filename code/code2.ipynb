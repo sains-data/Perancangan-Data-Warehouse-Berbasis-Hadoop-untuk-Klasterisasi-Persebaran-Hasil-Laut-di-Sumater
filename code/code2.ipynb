{
 "cells": [
  {
   "cell_type": "markdown",
   "id": "150d7e53-8546-4fdf-a18c-244831a30424",
   "metadata": {},
   "source": [
    "## Buat Spark Session dan Load Data dari HDFS"
   ]
  },
  {
   "cell_type": "code",
   "execution_count": 14,
   "id": "f4165b32-69f5-4cbb-a81e-f4827d222515",
   "metadata": {},
   "outputs": [
    {
     "name": "stdout",
     "output_type": "stream",
     "text": [
      "Berhasil membaca dari HDFS: hdfs://localhost:9000/raw_data/data.csv\n",
      "root\n",
      " |-- Tahun: integer (nullable = true)\n",
      " |-- Kabupaten/Kota: string (nullable = true)\n",
      " |-- WPP: string (nullable = true)\n",
      " |-- Volume Produksi (Ton): double (nullable = true)\n",
      " |-- Nilai Produksi (Rp 000): integer (nullable = true)\n",
      " |-- Provinsi: string (nullable = true)\n",
      " |-- Kelompok: string (nullable = true)\n",
      " |-- Jenis Ikan;: string (nullable = true)\n",
      "\n",
      "+-----+--------------+----------+---------------------+-----------------------+--------------+-----------+-----------------------------+\n",
      "|Tahun|Kabupaten/Kota|WPP       |Volume Produksi (Ton)|Nilai Produksi (Rp 000)|Provinsi      |Kelompok   |Jenis Ikan;                  |\n",
      "+-----+--------------+----------+---------------------+-----------------------+--------------+-----------+-----------------------------+\n",
      "|2023 |AGAM          |WPP-RI-572|184.17               |3683400                |SUMATERA BARAT|ALU-ALU    |ALU-ALU BESAR; BARAKUDA BESAR|\n",
      "|2023 |AGAM          |WPP-RI-572|364.68               |12763660               |SUMATERA BARAT|BAWAL      |BAWAL HITAM;                 |\n",
      "|2023 |AGAM          |WPP-RI-572|16.99                |509640                 |SUMATERA BARAT|BELANAK    |BELANAK;                     |\n",
      "|2023 |AGAM          |WPP-RI-572|134.91               |2698280                |SUMATERA BARAT|BIJI NANGKA|BIJI NANGKA KARANG;          |\n",
      "|2023 |AGAM          |WPP-RI-572|457.54               |8235702                |SUMATERA BARAT|BIJI NANGKA|KUNIRAN; BIJI NANGKA         |\n",
      "+-----+--------------+----------+---------------------+-----------------------+--------------+-----------+-----------------------------+\n",
      "only showing top 5 rows\n",
      "\n",
      "Jumlah baris yang dibaca dari HDFS: 8144\n",
      "Done\n"
     ]
    }
   ],
   "source": [
    "from pyspark.sql import SparkSession\n",
    "from pyspark.sql.types import StructType, StructField, StringType, IntegerType, DoubleType, LongType\n",
    "\n",
    "# Inisialisasi SparkSession\n",
    "spark = SparkSession.builder \\\n",
    "    .appName(\"ReadFromHDFS_ExplicitPath\") \\\n",
    "    .getOrCreate()\n",
    "\n",
    "# Path HDFS yang lebih eksplisit\n",
    "path_hdfs = \"hdfs://localhost:9000/raw_data/data.csv\"\n",
    "\n",
    "# Nama kolom (jika diperlukan, misalnya jika tidak ada header atau untuk skema manual)\n",
    "nama_kolom = [\"tahun\", \"kabupaten_kota\", \"wpp\", \"volume_produksi_ton\", \"nilai_produksi_rp_000\", \"provinsi\", \"kelompok\", \"jenis_ikan\"]\n",
    "\n",
    "try:\n",
    "    df_hdfs = spark.read.format(\"csv\") \\\n",
    "        .option(\"header\", \"true\") \\\n",
    "        .option(\"delimiter\", \",\") \\\n",
    "        .option(\"inferSchema\", \"true\") \\\n",
    "        .load(path_hdfs)\n",
    "\n",
    "    print(f\"Berhasil membaca dari HDFS: {path_hdfs}\")\n",
    "    df_hdfs.printSchema()\n",
    "    df_hdfs.show(5, truncate=False)\n",
    "    print(f\"Jumlah baris yang dibaca dari HDFS: {df_hdfs.count()}\")\n",
    "\n",
    "except Exception as e:\n",
    "    print(f\"Error membaca file dari HDFS {path_hdfs}: {e}\")\n",
    "    print(\"Pastikan URI HDFS benar dan NameNode berjalan.\")\n",
    "    print(\"Pastikan file ada di path tersebut dan Spark memiliki izin akses.\")\n",
    "    print(\"Periksa format file dan opsi yang digunakan.\")\n",
    "\n",
    "finally:\n",
    "    # Hentikan SparkSession\n",
    "    print(\"Done\")"
   ]
  },
  {
   "cell_type": "markdown",
   "id": "d2175e2d-cca5-45d6-b897-4b6c5c59a40a",
   "metadata": {},
   "source": [
    "## Eksplorasi Data"
   ]
  },
  {
   "cell_type": "code",
   "execution_count": 15,
   "id": "49275003-083c-405b-9ead-53f0a2a8920b",
   "metadata": {},
   "outputs": [
    {
     "name": "stdout",
     "output_type": "stream",
     "text": [
      "Jumlah total baris: 8144\n"
     ]
    },
    {
     "name": "stderr",
     "output_type": "stream",
     "text": [
      "                                                                                "
     ]
    },
    {
     "name": "stdout",
     "output_type": "stream",
     "text": [
      "+------------+---------------------+----------+----------------------------+------------------------------+---------------+---------------+------------------+\n",
      "|Unique_Tahun|Unique_Kabupaten/Kota|Unique_WPP|Unique_Volume Produksi (Ton)|Unique_Nilai Produksi (Rp 000)|Unique_Provinsi|Unique_Kelompok|Unique_Jenis Ikan;|\n",
      "+------------+---------------------+----------+----------------------------+------------------------------+---------------+---------------+------------------+\n",
      "|           5|                   45|         7|                        6918|                          7835|              6|             98|               344|\n",
      "+------------+---------------------+----------+----------------------------+------------------------------+---------------+---------------+------------------+\n",
      "\n"
     ]
    },
    {
     "name": "stderr",
     "output_type": "stream",
     "text": [
      "25/05/26 10:04:35 WARN SparkStringUtils: Truncated the string representation of a plan since it was too large. This behavior can be adjusted by setting 'spark.sql.debug.maxToStringFields'.\n",
      "                                                                                "
     ]
    },
    {
     "name": "stdout",
     "output_type": "stream",
     "text": [
      "+-------+------------------+--------------+--------------------+---------------------+-----------------------+--------------+--------+------------+\n",
      "|summary|             Tahun|Kabupaten/Kota|                 WPP|Volume Produksi (Ton)|Nilai Produksi (Rp 000)|      Provinsi|Kelompok| Jenis Ikan;|\n",
      "+-------+------------------+--------------+--------------------+---------------------+-----------------------+--------------+--------+------------+\n",
      "|  count|              8144|          8144|                8144|                 8144|                   8144|          8144|    8144|        8144|\n",
      "|   mean|2020.9964390962673|          NULL|                NULL|    604.7076743614933|   1.8392105080427308E7|          NULL|    NULL|        NULL|\n",
      "| stddev| 1.424893020401632|          NULL|                NULL|    1656.932747495079|    4.427455021285158E7|          NULL|    NULL|        NULL|\n",
      "|    min|              2019|          AGAM|Laut Lepas Samude...|                  0.0|                     15|         JAMBI| ALU-ALU|       ABAT;|\n",
      "|    max|              2023| TULANG BAWANG|          WPP-RI-713|             44842.78|              896855520|SUMATERA UTARA|   UDANG|UDANG WINDU;|\n",
      "+-------+------------------+--------------+--------------------+---------------------+-----------------------+--------------+--------+------------+\n",
      "\n",
      "+----------+----------+---------+---------+\n",
      "|Min Volume|Max Volume|Min Nilai|Max Nilai|\n",
      "+----------+----------+---------+---------+\n",
      "|       0.0|  44842.78|       15|896855520|\n",
      "+----------+----------+---------+---------+\n",
      "\n",
      "+-------------------------+\n",
      "|Rata-rata Volume Produksi|\n",
      "+-------------------------+\n",
      "|                   604.71|\n",
      "+-------------------------+\n",
      "\n"
     ]
    },
    {
     "ename": "AnalysisException",
     "evalue": "[UNRESOLVED_COLUMN.WITH_SUGGESTION] A column or function parameter with name `Jenis Ikan` cannot be resolved. Did you mean one of the following? [`Jenis Ikan;`, `Kelompok`, `Tahun`, `Provinsi`, `WPP`].;\n'Aggregate [Provinsi#123], [Provinsi#123, round(avg(Volume Produksi (Ton)#121), 2) AS Rata-rata Volume#966, round(avg(Nilai Produksi (Rp 000)#122), 2) AS Rata-rata Nilai#968, 'count(distinct 'Jenis Ikan) AS Jumlah Jenis Ikan#969]\n+- Relation [Tahun#118,Kabupaten/Kota#119,WPP#120,Volume Produksi (Ton)#121,Nilai Produksi (Rp 000)#122,Provinsi#123,Kelompok#124,Jenis Ikan;#125] csv\n",
     "output_type": "error",
     "traceback": [
      "\u001b[31m---------------------------------------------------------------------------\u001b[39m",
      "\u001b[31mAnalysisException\u001b[39m                         Traceback (most recent call last)",
      "\u001b[36mCell\u001b[39m\u001b[36m \u001b[39m\u001b[32mIn[15]\u001b[39m\u001b[32m, line 24\u001b[39m\n\u001b[32m     21\u001b[39m df_hdfs.select(\u001b[38;5;28mround\u001b[39m(avg(col(\u001b[33m\"\u001b[39m\u001b[33mVolume Produksi (Ton)\u001b[39m\u001b[33m\"\u001b[39m)), \u001b[32m2\u001b[39m).alias(\u001b[33m\"\u001b[39m\u001b[33mRata-rata Volume Produksi\u001b[39m\u001b[33m\"\u001b[39m)).show()\n\u001b[32m     23\u001b[39m \u001b[38;5;66;03m# Menampilkan jumlah produksi per provinsi\u001b[39;00m\n\u001b[32m---> \u001b[39m\u001b[32m24\u001b[39m \u001b[43mdf_hdfs\u001b[49m\u001b[43m.\u001b[49m\u001b[43mgroupBy\u001b[49m\u001b[43m(\u001b[49m\u001b[33;43m\"\u001b[39;49m\u001b[33;43mProvinsi\u001b[39;49m\u001b[33;43m\"\u001b[39;49m\u001b[43m)\u001b[49m\u001b[43m.\u001b[49m\u001b[43magg\u001b[49m\u001b[43m(\u001b[49m\n\u001b[32m     25\u001b[39m \u001b[43m    \u001b[49m\u001b[38;5;28;43mround\u001b[39;49m\u001b[43m(\u001b[49m\u001b[43mavg\u001b[49m\u001b[43m(\u001b[49m\u001b[43mcol\u001b[49m\u001b[43m(\u001b[49m\u001b[33;43m\"\u001b[39;49m\u001b[33;43mVolume Produksi (Ton)\u001b[39;49m\u001b[33;43m\"\u001b[39;49m\u001b[43m)\u001b[49m\u001b[43m)\u001b[49m\u001b[43m,\u001b[49m\u001b[43m \u001b[49m\u001b[32;43m2\u001b[39;49m\u001b[43m)\u001b[49m\u001b[43m.\u001b[49m\u001b[43malias\u001b[49m\u001b[43m(\u001b[49m\u001b[33;43m\"\u001b[39;49m\u001b[33;43mRata-rata Volume\u001b[39;49m\u001b[33;43m\"\u001b[39;49m\u001b[43m)\u001b[49m\u001b[43m,\u001b[49m\n\u001b[32m     26\u001b[39m \u001b[43m    \u001b[49m\u001b[38;5;28;43mround\u001b[39;49m\u001b[43m(\u001b[49m\u001b[43mavg\u001b[49m\u001b[43m(\u001b[49m\u001b[43mcol\u001b[49m\u001b[43m(\u001b[49m\u001b[33;43m\"\u001b[39;49m\u001b[33;43mNilai Produksi (Rp 000)\u001b[39;49m\u001b[33;43m\"\u001b[39;49m\u001b[43m)\u001b[49m\u001b[43m)\u001b[49m\u001b[43m,\u001b[49m\u001b[43m \u001b[49m\u001b[32;43m2\u001b[39;49m\u001b[43m)\u001b[49m\u001b[43m.\u001b[49m\u001b[43malias\u001b[49m\u001b[43m(\u001b[49m\u001b[33;43m\"\u001b[39;49m\u001b[33;43mRata-rata Nilai\u001b[39;49m\u001b[33;43m\"\u001b[39;49m\u001b[43m)\u001b[49m\u001b[43m,\u001b[49m\n\u001b[32m     27\u001b[39m \u001b[43m    \u001b[49m\u001b[43mcountDistinct\u001b[49m\u001b[43m(\u001b[49m\u001b[33;43m\"\u001b[39;49m\u001b[33;43mJenis Ikan\u001b[39;49m\u001b[33;43m\"\u001b[39;49m\u001b[43m)\u001b[49m\u001b[43m.\u001b[49m\u001b[43malias\u001b[49m\u001b[43m(\u001b[49m\u001b[33;43m\"\u001b[39;49m\u001b[33;43mJumlah Jenis Ikan\u001b[39;49m\u001b[33;43m\"\u001b[39;49m\u001b[43m)\u001b[49m\n\u001b[32m     28\u001b[39m \u001b[43m)\u001b[49m.orderBy(col(\u001b[33m\"\u001b[39m\u001b[33mRata-rata Volume\u001b[39m\u001b[33m\"\u001b[39m).desc()).show()\n\u001b[32m     30\u001b[39m \u001b[38;5;66;03m# Menampilkan distribusi data untuk beberapa kategori\u001b[39;00m\n\u001b[32m     31\u001b[39m df_hdfs.groupBy(\u001b[33m\"\u001b[39m\u001b[33mKelompok\u001b[39m\u001b[33m\"\u001b[39m).count().orderBy(col(\u001b[33m\"\u001b[39m\u001b[33mcount\u001b[39m\u001b[33m\"\u001b[39m).desc()).show()\n",
      "\u001b[36mFile \u001b[39m\u001b[32m/usr/local/lib/python3.12/dist-packages/pyspark/sql/group.py:186\u001b[39m, in \u001b[36mGroupedData.agg\u001b[39m\u001b[34m(self, *exprs)\u001b[39m\n\u001b[32m    184\u001b[39m     \u001b[38;5;28;01massert\u001b[39;00m \u001b[38;5;28mall\u001b[39m(\u001b[38;5;28misinstance\u001b[39m(c, Column) \u001b[38;5;28;01mfor\u001b[39;00m c \u001b[38;5;129;01min\u001b[39;00m exprs), \u001b[33m\"\u001b[39m\u001b[33mall exprs should be Column\u001b[39m\u001b[33m\"\u001b[39m\n\u001b[32m    185\u001b[39m     exprs = cast(Tuple[Column, ...], exprs)\n\u001b[32m--> \u001b[39m\u001b[32m186\u001b[39m     jdf = \u001b[38;5;28;43mself\u001b[39;49m\u001b[43m.\u001b[49m\u001b[43m_jgd\u001b[49m\u001b[43m.\u001b[49m\u001b[43magg\u001b[49m\u001b[43m(\u001b[49m\u001b[43mexprs\u001b[49m\u001b[43m[\u001b[49m\u001b[32;43m0\u001b[39;49m\u001b[43m]\u001b[49m\u001b[43m.\u001b[49m\u001b[43m_jc\u001b[49m\u001b[43m,\u001b[49m\u001b[43m \u001b[49m\u001b[43m_to_seq\u001b[49m\u001b[43m(\u001b[49m\u001b[38;5;28;43mself\u001b[39;49m\u001b[43m.\u001b[49m\u001b[43msession\u001b[49m\u001b[43m.\u001b[49m\u001b[43m_sc\u001b[49m\u001b[43m,\u001b[49m\u001b[43m \u001b[49m\u001b[43m[\u001b[49m\u001b[43mc\u001b[49m\u001b[43m.\u001b[49m\u001b[43m_jc\u001b[49m\u001b[43m \u001b[49m\u001b[38;5;28;43;01mfor\u001b[39;49;00m\u001b[43m \u001b[49m\u001b[43mc\u001b[49m\u001b[43m \u001b[49m\u001b[38;5;129;43;01min\u001b[39;49;00m\u001b[43m \u001b[49m\u001b[43mexprs\u001b[49m\u001b[43m[\u001b[49m\u001b[32;43m1\u001b[39;49m\u001b[43m:\u001b[49m\u001b[43m]\u001b[49m\u001b[43m]\u001b[49m\u001b[43m)\u001b[49m\u001b[43m)\u001b[49m\n\u001b[32m    187\u001b[39m \u001b[38;5;28;01mreturn\u001b[39;00m DataFrame(jdf, \u001b[38;5;28mself\u001b[39m.session)\n",
      "\u001b[36mFile \u001b[39m\u001b[32m/usr/local/lib/python3.12/dist-packages/py4j/java_gateway.py:1322\u001b[39m, in \u001b[36mJavaMember.__call__\u001b[39m\u001b[34m(self, *args)\u001b[39m\n\u001b[32m   1316\u001b[39m command = proto.CALL_COMMAND_NAME +\\\n\u001b[32m   1317\u001b[39m     \u001b[38;5;28mself\u001b[39m.command_header +\\\n\u001b[32m   1318\u001b[39m     args_command +\\\n\u001b[32m   1319\u001b[39m     proto.END_COMMAND_PART\n\u001b[32m   1321\u001b[39m answer = \u001b[38;5;28mself\u001b[39m.gateway_client.send_command(command)\n\u001b[32m-> \u001b[39m\u001b[32m1322\u001b[39m return_value = \u001b[43mget_return_value\u001b[49m\u001b[43m(\u001b[49m\n\u001b[32m   1323\u001b[39m \u001b[43m    \u001b[49m\u001b[43manswer\u001b[49m\u001b[43m,\u001b[49m\u001b[43m \u001b[49m\u001b[38;5;28;43mself\u001b[39;49m\u001b[43m.\u001b[49m\u001b[43mgateway_client\u001b[49m\u001b[43m,\u001b[49m\u001b[43m \u001b[49m\u001b[38;5;28;43mself\u001b[39;49m\u001b[43m.\u001b[49m\u001b[43mtarget_id\u001b[49m\u001b[43m,\u001b[49m\u001b[43m \u001b[49m\u001b[38;5;28;43mself\u001b[39;49m\u001b[43m.\u001b[49m\u001b[43mname\u001b[49m\u001b[43m)\u001b[49m\n\u001b[32m   1325\u001b[39m \u001b[38;5;28;01mfor\u001b[39;00m temp_arg \u001b[38;5;129;01min\u001b[39;00m temp_args:\n\u001b[32m   1326\u001b[39m     \u001b[38;5;28;01mif\u001b[39;00m \u001b[38;5;28mhasattr\u001b[39m(temp_arg, \u001b[33m\"\u001b[39m\u001b[33m_detach\u001b[39m\u001b[33m\"\u001b[39m):\n",
      "\u001b[36mFile \u001b[39m\u001b[32m/usr/local/lib/python3.12/dist-packages/pyspark/errors/exceptions/captured.py:185\u001b[39m, in \u001b[36mcapture_sql_exception.<locals>.deco\u001b[39m\u001b[34m(*a, **kw)\u001b[39m\n\u001b[32m    181\u001b[39m converted = convert_exception(e.java_exception)\n\u001b[32m    182\u001b[39m \u001b[38;5;28;01mif\u001b[39;00m \u001b[38;5;129;01mnot\u001b[39;00m \u001b[38;5;28misinstance\u001b[39m(converted, UnknownException):\n\u001b[32m    183\u001b[39m     \u001b[38;5;66;03m# Hide where the exception came from that shows a non-Pythonic\u001b[39;00m\n\u001b[32m    184\u001b[39m     \u001b[38;5;66;03m# JVM exception message.\u001b[39;00m\n\u001b[32m--> \u001b[39m\u001b[32m185\u001b[39m     \u001b[38;5;28;01mraise\u001b[39;00m converted \u001b[38;5;28;01mfrom\u001b[39;00m\u001b[38;5;250m \u001b[39m\u001b[38;5;28;01mNone\u001b[39;00m\n\u001b[32m    186\u001b[39m \u001b[38;5;28;01melse\u001b[39;00m:\n\u001b[32m    187\u001b[39m     \u001b[38;5;28;01mraise\u001b[39;00m\n",
      "\u001b[31mAnalysisException\u001b[39m: [UNRESOLVED_COLUMN.WITH_SUGGESTION] A column or function parameter with name `Jenis Ikan` cannot be resolved. Did you mean one of the following? [`Jenis Ikan;`, `Kelompok`, `Tahun`, `Provinsi`, `WPP`].;\n'Aggregate [Provinsi#123], [Provinsi#123, round(avg(Volume Produksi (Ton)#121), 2) AS Rata-rata Volume#966, round(avg(Nilai Produksi (Rp 000)#122), 2) AS Rata-rata Nilai#968, 'count(distinct 'Jenis Ikan) AS Jumlah Jenis Ikan#969]\n+- Relation [Tahun#118,Kabupaten/Kota#119,WPP#120,Volume Produksi (Ton)#121,Nilai Produksi (Rp 000)#122,Provinsi#123,Kelompok#124,Jenis Ikan;#125] csv\n"
     ]
    }
   ],
   "source": [
    "from pyspark.sql.functions import col, countDistinct, avg, min, max, round\n",
    "\n",
    "# Menampilkan jumlah total baris\n",
    "print(f\"Jumlah total baris: {df_hdfs.count()}\")\n",
    "\n",
    "# Menampilkan jumlah nilai unik dalam setiap kolom\n",
    "df_hdfs.select([countDistinct(col(c)).alias(f\"Unique_{c}\") for c in df_hdfs.columns]).show()\n",
    "\n",
    "# Menampilkan statistik deskriptif untuk kolom numerik\n",
    "df_hdfs.describe().show()\n",
    "\n",
    "# Menampilkan nilai minimum dan maksimum untuk beberapa kolom numerik\n",
    "df_hdfs.select(\n",
    "    min(col(\"Volume Produksi (Ton)\")).alias(\"Min Volume\"),\n",
    "    max(col(\"Volume Produksi (Ton)\")).alias(\"Max Volume\"),\n",
    "    min(col(\"Nilai Produksi (Rp 000)\")).alias(\"Min Nilai\"),\n",
    "    max(col(\"Nilai Produksi (Rp 000)\")).alias(\"Max Nilai\")\n",
    ").show()\n",
    "\n",
    "# Menghitung rata-rata volume produksi\n",
    "df_hdfs.select(round(avg(col(\"Volume Produksi (Ton)\")), 2).alias(\"Rata-rata Volume Produksi\")).show()\n",
    "\n",
    "# Menampilkan jumlah produksi per provinsi\n",
    "df_hdfs.groupBy(\"Provinsi\").agg(\n",
    "    round(avg(col(\"Volume Produksi (Ton)\")), 2).alias(\"Rata-rata Volume\"),\n",
    "    round(avg(col(\"Nilai Produksi (Rp 000)\")), 2).alias(\"Rata-rata Nilai\"),\n",
    "    countDistinct(\"Jenis Ikan\").alias(\"Jumlah Jenis Ikan\")\n",
    ").orderBy(col(\"Rata-rata Volume\").desc()).show()\n",
    "\n",
    "# Menampilkan distribusi data untuk beberapa kategori\n",
    "df_hdfs.groupBy(\"Kelompok\").count().orderBy(col(\"count\").desc()).show()\n",
    "df_hdfs.groupBy(\"Jenis Ikan\").count().orderBy(col(\"count\").desc()).show()"
   ]
  },
  {
   "cell_type": "markdown",
   "id": "8dd5ce59-ed17-44e2-8c37-5ff25f80d756",
   "metadata": {},
   "source": [
    "## Preprocessing Data"
   ]
  },
  {
   "cell_type": "code",
   "execution_count": 16,
   "id": "f614827b-3a08-4276-8e03-c0e8e4c545fa",
   "metadata": {},
   "outputs": [
    {
     "name": "stdout",
     "output_type": "stream",
     "text": [
      "+-----+--------------+----------+---------------------+-----------------------+--------------+-----------+--------------------+\n",
      "|Tahun|Kabupaten/Kota|       WPP|Volume Produksi (Ton)|Nilai Produksi (Rp 000)|      Provinsi|   Kelompok|         Jenis Ikan;|\n",
      "+-----+--------------+----------+---------------------+-----------------------+--------------+-----------+--------------------+\n",
      "| 2023|          AGAM|WPP-RI-572|               184.17|                3683400|SUMATERA BARAT|    ALU-ALU|ALU-ALU BESAR; BA...|\n",
      "| 2023|          AGAM|WPP-RI-572|               364.68|               12763660|SUMATERA BARAT|      BAWAL|        BAWAL HITAM;|\n",
      "| 2023|          AGAM|WPP-RI-572|                16.99|                 509640|SUMATERA BARAT|    BELANAK|            BELANAK;|\n",
      "| 2023|          AGAM|WPP-RI-572|               134.91|                2698280|SUMATERA BARAT|BIJI NANGKA| BIJI NANGKA KARANG;|\n",
      "| 2023|          AGAM|WPP-RI-572|               457.54|                8235702|SUMATERA BARAT|BIJI NANGKA|KUNIRAN; BIJI NANGKA|\n",
      "| 2023|          AGAM|WPP-RI-572|               542.68|               14466410|SUMATERA BARAT|   CAKALANG|           CAKALANG;|\n",
      "| 2023|          AGAM|WPP-RI-572|                 65.0|                4550000|SUMATERA BARAT|  CUMI-CUMI|          CUMI-CUMI;|\n",
      "| 2023|          AGAM|WPP-RI-572|                16.58|                 414525|SUMATERA BARAT|EKOR KUNING|        EKOR KUNING;|\n",
      "| 2023|          AGAM|WPP-RI-572|               661.52|               11907342|SUMATERA BARAT|    GULAMAH|            GULAMAH;|\n",
      "| 2023|          AGAM|WPP-RI-572|               609.35|               18280350|SUMATERA BARAT|      KAKAP|             JENAHA;|\n",
      "| 2023|          AGAM|WPP-RI-572|               290.84|               13087890|SUMATERA BARAT|      KAKAP|        KAKAP MERAH;|\n",
      "| 2023|          AGAM|WPP-RI-572|               102.62|                1539300|SUMATERA BARAT|KAPAS-KAPAS|        KAPAS-KAPAS;|\n",
      "| 2023|          AGAM|WPP-RI-572|               832.12|               24963600|SUMATERA BARAT|    KEMBUNG|            KEMBUNG;|\n",
      "| 2023|          AGAM|WPP-RI-572|                67.65|                2029380|SUMATERA BARAT|    KEMBUNG|  KEMBUNG PEREMPUAN;|\n",
      "| 2023|          AGAM|WPP-RI-572|               150.16|                3003280|SUMATERA BARAT|   KEPITING|           KEPITING;|\n",
      "| 2023|          AGAM|WPP-RI-572|                45.27|                1810840|SUMATERA BARAT|     KERAPU|      KERAPU BALONG;|\n",
      "| 2023|          AGAM|WPP-RI-572|                12.98|                 519280|SUMATERA BARAT|     KERAPU|      KERAPU LUMPUR;|\n",
      "| 2023|          AGAM|WPP-RI-572|               291.21|                8736390|SUMATERA BARAT|       KUWE|               KUWE;|\n",
      "| 2023|          AGAM|WPP-RI-572|               338.57|               10157130|SUMATERA BARAT|       KUWE|         KUWE SEMAR;|\n",
      "| 2023|          AGAM|WPP-RI-572|               133.25|                7995000|SUMATERA BARAT|     LAYANG|             LAYANG;|\n",
      "+-----+--------------+----------+---------------------+-----------------------+--------------+-----------+--------------------+\n",
      "only showing top 20 rows\n",
      "\n"
     ]
    }
   ],
   "source": [
    "df_hdfs.show()"
   ]
  }
 ],
 "metadata": {
  "kernelspec": {
   "display_name": "Python 3 (ipykernel)",
   "language": "python",
   "name": "python3"
  },
  "language_info": {
   "codemirror_mode": {
    "name": "ipython",
    "version": 3
   },
   "file_extension": ".py",
   "mimetype": "text/x-python",
   "name": "python",
   "nbconvert_exporter": "python",
   "pygments_lexer": "ipython3",
   "version": "3.12.3"
  }
 },
 "nbformat": 4,
 "nbformat_minor": 5
}
